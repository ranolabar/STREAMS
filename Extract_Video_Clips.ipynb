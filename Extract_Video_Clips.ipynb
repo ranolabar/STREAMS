{
 "cells": [
  {
   "cell_type": "code",
   "execution_count": 1,
   "metadata": {
    "collapsed": false
   },
   "outputs": [
    {
     "name": "stdout",
     "output_type": "stream",
     "text": [
      "Filename (Log File w/Aligned Streams): ChemData_StreamsAligned.txt\n",
      "['Student', 'Date', 'Time', 'Activity', 'Screen', 'Event', 'KC', 'S1.Filename', 'S1.VideoTimeEnd_sec', 'S1.VideoTimeStart_sec', 'Label']\n",
      "How many columns in your query?: 1\n",
      "Column 1 name: Label\n",
      "['3_massHydroxide_cu_mass_corr' '3_massHydroxide_sig_fig'\n",
      " '3_molMassCopperHyd_mmatoms' '3_molMassCopperHyd_numatoms'\n",
      " '3_molRatios_molRatios' '3_molRatios_selection' '3_amountReacted_amount'\n",
      " '3_amountReacted_molMass' '3_amountReacted_molRatio'\n",
      " '3_sulfateIntro1_equation' '3_precipitateQs_predict' '3_sulfateTest1_mass'\n",
      " '3_sulfateTest1_sig_fig' '3_sulfateTest1_vlabUse' '3_molMassBaSO4_mmatoms'\n",
      " '3_molMassBaSO4_numatoms' '3_calcReactedBaSO4_amount'\n",
      " '3_calcReactedBaSO4_molMass' '3_calcReactedBaSO4_molRatio'\n",
      " '3_test1Results_amount' '3_test1Results_epaCorrect'\n",
      " '3_test1Results_molMass' '3_test1Results_unitConv'\n",
      " '3_intro1Explain_question' '3_intro2_rxn1corr' '3_intro2_rxn2corr'\n",
      " '3_intro2_rxn3corr' '3_intro2_rxn4corr' '3_gravCheck_question'\n",
      " '3_silverChromate_ag_equation' '3_copperHydroxide_ag_equation'\n",
      " '3_introProcess_initCu' '3_introProcess_reactedCu'\n",
      " '3_introProcess2_question' '3_sulfateTest2_mass' '3_sulfateTest2_moles'\n",
      " '3_sulfateTest2_sig_fig' '3_sulfateTest2_vlabUse' '3_test2Results_amount'\n",
      " '3_test2Results_molMass' '3_test2Results_molRatio'\n",
      " '3_test2Results_unitConv' '3_test2Results_epaCorrect'\n",
      " '2_factoryBConcVsGrams_conc_grams' '2_vLabBConc_concB'\n",
      " '2_vLabBConc_sig_fig' '2_vLabBConc_vlab_use' '2_sDSmm_massAtoms'\n",
      " '2_sDSmm_massCalc' '2_sDSmm_numAtoms' '2_sDSmm_totalMassAtoms'\n",
      " '2_factoryBMolarity_concGL' '2_factoryBMolarity_concM'\n",
      " '2_factoryBMolarity_molarMass' '2_vLabBDilution_conc_inputB'\n",
      " '2_vLabBDilution_dilution_correct' '2_vLabBDilution_sig_fig'\n",
      " '2_vLabBDilutionCompare_conc_correct' '2_factoryCDilution_dilute_correct'\n",
      " '2_vLabCConc_concC' '2_vLabCConc_sig_fig' '2_vLabCConc_vlab_use'\n",
      " '2_acetone_mm_massAtoms' '2_acetone_mm_massCalc' '2_acetone_mm_numAtoms'\n",
      " '2_acetone_mm_totalMassAtoms' '2_factoryCMolarity_concGL'\n",
      " '2_factoryCMolarity_concM' '2_factoryCMolarity_molarMass'\n",
      " '2_vLabCDilution_conc_inputC' '2_vLabCDilution_dilution_correct'\n",
      " '2_vLabCDilution_sig_fig' '2_vLabCDilutionCompare_conc_correct'\n",
      " '2_vLabAConc_concA' '2_vLabAConc_sig_fig' '2_vLabAConc_vlab_use'\n",
      " '2_nH4NO3mm_massAtoms' '2_nH4NO3mm_molarity' '2_nH4NO3mm_numAtoms'\n",
      " '2_factoryACompare_concCorrect' '2_factoryACompare_concGL'\n",
      " '2_factoryACompare_concM' '2_factoryACompare_molarMass'\n",
      " '1_sugarAmtsMia_final_value' '1_sugarAmtsMia_sig_fig'\n",
      " '1_sugarAmtsMia_sugar_prop' '1_sugarAmtsMia_drink_conc'\n",
      " '1_sugarAmtsMia_drink_vol' '1_sugarAmtsMia_unit_conv'\n",
      " '1_sugarAmtsSum_amt_sugar' '1_sugarAmtsSum_conc_sugar'\n",
      " '4_chemE_AB2_products_corr' '4_chemE_AB2_reactant_corr'\n",
      " '4_aB2_lim_limreag_corr' '4_chemE_AB_products_corr'\n",
      " '4_chemE_AB_reactant_corr' '4_aB_lim_limreag_corr'\n",
      " '4_chemE_A2C_products_corr' '4_chemE_A2C_reactant_corr'\n",
      " '4_a2C_lim_limreag_corr' '4_introtechnique_vlab_corr'\n",
      " '4_ratioAC_ratio_corr' '4_chemEs200_products_corr'\n",
      " '4_chemEs200_reactant_corr' '4_s200_create_vlab_corr'\n",
      " '4_which_reacts_q4000_corr' '4_which_reacts_r760_corr'\n",
      " '4_which_reacts_s400_corr' '4_which_reacts_x630_corr'\n",
      " '4_ml_x630_rxn_vlab_corr' '4_ratio_x630_ratio_x630_corr'\n",
      " '4_chemrxn_x630_chemrxn_corr' '4_moles_x630_1gal_convert_1gal_corr'\n",
      " '4_moles_all_moles_x630' '4_lim_reag_x630_lim1' '4_lim_reag_x630_lim2']\n",
      "Column 1 value: 3_precipitateQs_predict\n",
      "Label==\"3_precipitateQs_predict\"\n"
     ]
    }
   ],
   "source": [
    "from moviepy.editor import *\n",
    "import pandas as pd\n",
    "import numpy as np\n",
    "import datetime\n",
    "\n",
    "logfile = input(\"Filename (Log File w/Aligned Streams): \")\n",
    "df = pd.read_table(logfile,sep='\\t')\n",
    "print(list(df)[1:])\n",
    "num_cols = int(input(\"How many columns in your query?: \"))\n",
    "for n in range(1,num_cols+1):\n",
    "    col_name = input('Column ' + str(n) + ' name: ')\n",
    "    print(df[col_name].unique())\n",
    "    col_val = input('Column ' + str(n) + ' value: ')\n",
    "    if n==1:\n",
    "        query_string = col_name + '==\\\"' + col_val + '\\\"'\n",
    "    else:\n",
    "        query_string = query_string + ' and ' + col_name + '==\\\"' + col_val + '\\\"'\n",
    "print(query_string)"
   ]
  },
  {
   "cell_type": "code",
   "execution_count": 2,
   "metadata": {
    "collapsed": false
   },
   "outputs": [
    {
     "data": {
      "text/html": [
       "<div>\n",
       "<table border=\"1\" class=\"dataframe\">\n",
       "  <thead>\n",
       "    <tr style=\"text-align: right;\">\n",
       "      <th></th>\n",
       "      <th>Unnamed: 0</th>\n",
       "      <th>Student</th>\n",
       "      <th>Date</th>\n",
       "      <th>Time</th>\n",
       "      <th>Activity</th>\n",
       "      <th>Screen</th>\n",
       "      <th>Event</th>\n",
       "      <th>KC</th>\n",
       "      <th>S1.Filename</th>\n",
       "      <th>S1.VideoTimeEnd_sec</th>\n",
       "      <th>S1.VideoTimeStart_sec</th>\n",
       "      <th>Label</th>\n",
       "    </tr>\n",
       "  </thead>\n",
       "  <tbody>\n",
       "    <tr>\n",
       "      <th>10</th>\n",
       "      <td>10</td>\n",
       "      <td>synthetic_student_1</td>\n",
       "      <td>10/16/15</td>\n",
       "      <td>4:56:46</td>\n",
       "      <td>3</td>\n",
       "      <td>precipitateQs</td>\n",
       "      <td>predict</td>\n",
       "      <td>Using.Stoich</td>\n",
       "      <td>10_16_2015_synthetic_student_1.mp4</td>\n",
       "      <td>666</td>\n",
       "      <td>337</td>\n",
       "      <td>3_precipitateQs_predict</td>\n",
       "    </tr>\n",
       "    <tr>\n",
       "      <th>44</th>\n",
       "      <td>69</td>\n",
       "      <td>synthetic_student_2</td>\n",
       "      <td>10/16/15</td>\n",
       "      <td>9:35:39</td>\n",
       "      <td>3</td>\n",
       "      <td>precipitateQs</td>\n",
       "      <td>predict</td>\n",
       "      <td>Using.Stoich</td>\n",
       "      <td>10_16_2015_synthetic_student_2.mp4</td>\n",
       "      <td>1540</td>\n",
       "      <td>1393</td>\n",
       "      <td>3_precipitateQs_predict</td>\n",
       "    </tr>\n",
       "    <tr>\n",
       "      <th>87</th>\n",
       "      <td>137</td>\n",
       "      <td>synthetic_student_3</td>\n",
       "      <td>10/16/15</td>\n",
       "      <td>7:08:05</td>\n",
       "      <td>3</td>\n",
       "      <td>precipitateQs</td>\n",
       "      <td>predict</td>\n",
       "      <td>Using.Stoich</td>\n",
       "      <td>10_16_2015_synthetic_student_3.mp4</td>\n",
       "      <td>1069</td>\n",
       "      <td>944</td>\n",
       "      <td>3_precipitateQs_predict</td>\n",
       "    </tr>\n",
       "    <tr>\n",
       "      <th>167</th>\n",
       "      <td>310</td>\n",
       "      <td>synthetic_student_4</td>\n",
       "      <td>10/16/15</td>\n",
       "      <td>7:19:05</td>\n",
       "      <td>3</td>\n",
       "      <td>precipitateQs</td>\n",
       "      <td>predict</td>\n",
       "      <td>Using.Stoich</td>\n",
       "      <td>10_16_2015_synthetic_student_4.mp4</td>\n",
       "      <td>1982</td>\n",
       "      <td>1826</td>\n",
       "      <td>3_precipitateQs_predict</td>\n",
       "    </tr>\n",
       "    <tr>\n",
       "      <th>202</th>\n",
       "      <td>367</td>\n",
       "      <td>synthetic_student_5</td>\n",
       "      <td>10/16/15</td>\n",
       "      <td>5:03:10</td>\n",
       "      <td>3</td>\n",
       "      <td>precipitateQs</td>\n",
       "      <td>predict</td>\n",
       "      <td>Using.Stoich</td>\n",
       "      <td>10_16_2015_synthetic_student_5.mp4</td>\n",
       "      <td>1052</td>\n",
       "      <td>837</td>\n",
       "      <td>3_precipitateQs_predict</td>\n",
       "    </tr>\n",
       "    <tr>\n",
       "      <th>229</th>\n",
       "      <td>454</td>\n",
       "      <td>synthetic_student_6</td>\n",
       "      <td>10/16/15</td>\n",
       "      <td>4:58:24</td>\n",
       "      <td>3</td>\n",
       "      <td>precipitateQs</td>\n",
       "      <td>predict</td>\n",
       "      <td>Using.Stoich</td>\n",
       "      <td>10_16_2015_synthetic_student_6.mp4</td>\n",
       "      <td>764</td>\n",
       "      <td>653</td>\n",
       "      <td>3_precipitateQs_predict</td>\n",
       "    </tr>\n",
       "    <tr>\n",
       "      <th>272</th>\n",
       "      <td>522</td>\n",
       "      <td>synthetic_student_7</td>\n",
       "      <td>10/16/15</td>\n",
       "      <td>6:31:31</td>\n",
       "      <td>3</td>\n",
       "      <td>precipitateQs</td>\n",
       "      <td>predict</td>\n",
       "      <td>Using.Stoich</td>\n",
       "      <td>10_16_2015_synthetic_student_7.mp4</td>\n",
       "      <td>1741</td>\n",
       "      <td>1554</td>\n",
       "      <td>3_precipitateQs_predict</td>\n",
       "    </tr>\n",
       "    <tr>\n",
       "      <th>302</th>\n",
       "      <td>590</td>\n",
       "      <td>synthetic_student_8</td>\n",
       "      <td>10/16/15</td>\n",
       "      <td>6:21:09</td>\n",
       "      <td>3</td>\n",
       "      <td>precipitateQs</td>\n",
       "      <td>predict</td>\n",
       "      <td>Using.Stoich</td>\n",
       "      <td>10_16_2015_synthetic_student_8.mp4</td>\n",
       "      <td>1174</td>\n",
       "      <td>1051</td>\n",
       "      <td>3_precipitateQs_predict</td>\n",
       "    </tr>\n",
       "    <tr>\n",
       "      <th>330</th>\n",
       "      <td>643</td>\n",
       "      <td>synthetic_student_9</td>\n",
       "      <td>10/16/15</td>\n",
       "      <td>4:52:23</td>\n",
       "      <td>3</td>\n",
       "      <td>precipitateQs</td>\n",
       "      <td>predict</td>\n",
       "      <td>Using.Stoich</td>\n",
       "      <td>10_16_2015_synthetic_student_9.mp4</td>\n",
       "      <td>425</td>\n",
       "      <td>237</td>\n",
       "      <td>3_precipitateQs_predict</td>\n",
       "    </tr>\n",
       "    <tr>\n",
       "      <th>373</th>\n",
       "      <td>716</td>\n",
       "      <td>synthetic_student_10</td>\n",
       "      <td>10/16/15</td>\n",
       "      <td>9:21:18</td>\n",
       "      <td>3</td>\n",
       "      <td>precipitateQs</td>\n",
       "      <td>predict</td>\n",
       "      <td>Using.Stoich</td>\n",
       "      <td>10_16_2015_synthetic_student_10.mp4</td>\n",
       "      <td>702</td>\n",
       "      <td>651</td>\n",
       "      <td>3_precipitateQs_predict</td>\n",
       "    </tr>\n",
       "    <tr>\n",
       "      <th>437</th>\n",
       "      <td>830</td>\n",
       "      <td>synthetic_student_11</td>\n",
       "      <td>10/16/15</td>\n",
       "      <td>6:33:35</td>\n",
       "      <td>3</td>\n",
       "      <td>precipitateQs</td>\n",
       "      <td>predict</td>\n",
       "      <td>Using.Stoich</td>\n",
       "      <td>10_16_2015_synthetic_student_11.mp4</td>\n",
       "      <td>1760</td>\n",
       "      <td>1536</td>\n",
       "      <td>3_precipitateQs_predict</td>\n",
       "    </tr>\n",
       "    <tr>\n",
       "      <th>471</th>\n",
       "      <td>889</td>\n",
       "      <td>synthetic_student_12</td>\n",
       "      <td>10/16/15</td>\n",
       "      <td>7:12:35</td>\n",
       "      <td>3</td>\n",
       "      <td>precipitateQs</td>\n",
       "      <td>predict</td>\n",
       "      <td>Using.Stoich</td>\n",
       "      <td>10_16_2015_synthetic_student_12.mp4</td>\n",
       "      <td>1562</td>\n",
       "      <td>1432</td>\n",
       "      <td>3_precipitateQs_predict</td>\n",
       "    </tr>\n",
       "    <tr>\n",
       "      <th>514</th>\n",
       "      <td>1029</td>\n",
       "      <td>synthetic_student_13</td>\n",
       "      <td>10/16/15</td>\n",
       "      <td>7:12:15</td>\n",
       "      <td>3</td>\n",
       "      <td>precipitateQs</td>\n",
       "      <td>predict</td>\n",
       "      <td>Using.Stoich</td>\n",
       "      <td>10_16_2015_synthetic_student_13.mp4</td>\n",
       "      <td>1542</td>\n",
       "      <td>1434</td>\n",
       "      <td>3_precipitateQs_predict</td>\n",
       "    </tr>\n",
       "    <tr>\n",
       "      <th>557</th>\n",
       "      <td>1072</td>\n",
       "      <td>synthetic_student_14</td>\n",
       "      <td>10/16/15</td>\n",
       "      <td>9:39:23</td>\n",
       "      <td>3</td>\n",
       "      <td>precipitateQs</td>\n",
       "      <td>predict</td>\n",
       "      <td>Using.Stoich</td>\n",
       "      <td>10_16_2015_synthetic_student_14.mp4</td>\n",
       "      <td>1758</td>\n",
       "      <td>1539</td>\n",
       "      <td>3_precipitateQs_predict</td>\n",
       "    </tr>\n",
       "    <tr>\n",
       "      <th>600</th>\n",
       "      <td>1165</td>\n",
       "      <td>synthetic_student_15</td>\n",
       "      <td>10/16/15</td>\n",
       "      <td>7:08:36</td>\n",
       "      <td>3</td>\n",
       "      <td>precipitateQs</td>\n",
       "      <td>predict</td>\n",
       "      <td>Using.Stoich</td>\n",
       "      <td>10_16_2015_synthetic_student_15.mp4</td>\n",
       "      <td>1275</td>\n",
       "      <td>1180</td>\n",
       "      <td>3_precipitateQs_predict</td>\n",
       "    </tr>\n",
       "    <tr>\n",
       "      <th>651</th>\n",
       "      <td>1241</td>\n",
       "      <td>synthetic_student_16</td>\n",
       "      <td>10/16/15</td>\n",
       "      <td>6:36:19</td>\n",
       "      <td>3</td>\n",
       "      <td>precipitateQs</td>\n",
       "      <td>predict</td>\n",
       "      <td>Using.Stoich</td>\n",
       "      <td>10_16_2015_synthetic_student_16.mp4</td>\n",
       "      <td>2142</td>\n",
       "      <td>1891</td>\n",
       "      <td>3_precipitateQs_predict</td>\n",
       "    </tr>\n",
       "    <tr>\n",
       "      <th>658</th>\n",
       "      <td>1297</td>\n",
       "      <td>synthetic_student_17</td>\n",
       "      <td>10/16/15</td>\n",
       "      <td>4:50:39</td>\n",
       "      <td>3</td>\n",
       "      <td>precipitateQs</td>\n",
       "      <td>predict</td>\n",
       "      <td>Using.Stoich</td>\n",
       "      <td>10_16_2015_synthetic_student_17.mp4</td>\n",
       "      <td>381</td>\n",
       "      <td>276</td>\n",
       "      <td>3_precipitateQs_predict</td>\n",
       "    </tr>\n",
       "    <tr>\n",
       "      <th>701</th>\n",
       "      <td>1365</td>\n",
       "      <td>synthetic_student_18</td>\n",
       "      <td>10/16/15</td>\n",
       "      <td>9:28:38</td>\n",
       "      <td>3</td>\n",
       "      <td>precipitateQs</td>\n",
       "      <td>predict</td>\n",
       "      <td>Using.Stoich</td>\n",
       "      <td>10_16_2015_synthetic_student_18.mp4</td>\n",
       "      <td>1140</td>\n",
       "      <td>1004</td>\n",
       "      <td>3_precipitateQs_predict</td>\n",
       "    </tr>\n",
       "    <tr>\n",
       "      <th>744</th>\n",
       "      <td>1433</td>\n",
       "      <td>synthetic_student_19</td>\n",
       "      <td>10/16/15</td>\n",
       "      <td>7:07:36</td>\n",
       "      <td>3</td>\n",
       "      <td>precipitateQs</td>\n",
       "      <td>predict</td>\n",
       "      <td>Using.Stoich</td>\n",
       "      <td>10_16_2015_synthetic_student_19.mp4</td>\n",
       "      <td>1249</td>\n",
       "      <td>1147</td>\n",
       "      <td>3_precipitateQs_predict</td>\n",
       "    </tr>\n",
       "    <tr>\n",
       "      <th>776</th>\n",
       "      <td>1490</td>\n",
       "      <td>synthetic_student_20</td>\n",
       "      <td>10/16/15</td>\n",
       "      <td>4:53:03</td>\n",
       "      <td>3</td>\n",
       "      <td>precipitateQs</td>\n",
       "      <td>predict</td>\n",
       "      <td>Using.Stoich</td>\n",
       "      <td>10_16_2015_synthetic_student_20.mp4</td>\n",
       "      <td>447</td>\n",
       "      <td>340</td>\n",
       "      <td>3_precipitateQs_predict</td>\n",
       "    </tr>\n",
       "    <tr>\n",
       "      <th>844</th>\n",
       "      <td>1635</td>\n",
       "      <td>synthetic_student_21</td>\n",
       "      <td>10/16/15</td>\n",
       "      <td>9:39:08</td>\n",
       "      <td>3</td>\n",
       "      <td>precipitateQs</td>\n",
       "      <td>predict</td>\n",
       "      <td>Using.Stoich</td>\n",
       "      <td>10_16_2015_synthetic_student_21.mp4</td>\n",
       "      <td>1809</td>\n",
       "      <td>1630</td>\n",
       "      <td>3_precipitateQs_predict</td>\n",
       "    </tr>\n",
       "    <tr>\n",
       "      <th>866</th>\n",
       "      <td>1682</td>\n",
       "      <td>synthetic_student_22</td>\n",
       "      <td>10/16/15</td>\n",
       "      <td>4:48:21</td>\n",
       "      <td>3</td>\n",
       "      <td>precipitateQs</td>\n",
       "      <td>predict</td>\n",
       "      <td>Using.Stoich</td>\n",
       "      <td>10_16_2015_synthetic_student_22.mp4</td>\n",
       "      <td>42</td>\n",
       "      <td>0</td>\n",
       "      <td>3_precipitateQs_predict</td>\n",
       "    </tr>\n",
       "    <tr>\n",
       "      <th>909</th>\n",
       "      <td>1748</td>\n",
       "      <td>synthetic_student_23</td>\n",
       "      <td>10/16/15</td>\n",
       "      <td>6:23:43</td>\n",
       "      <td>3</td>\n",
       "      <td>precipitateQs</td>\n",
       "      <td>predict</td>\n",
       "      <td>Using.Stoich</td>\n",
       "      <td>10_16_2015_synthetic_student_23.mp4</td>\n",
       "      <td>1251</td>\n",
       "      <td>1129</td>\n",
       "      <td>3_precipitateQs_predict</td>\n",
       "    </tr>\n",
       "    <tr>\n",
       "      <th>931</th>\n",
       "      <td>1770</td>\n",
       "      <td>synthetic_student_24</td>\n",
       "      <td>10/16/15</td>\n",
       "      <td>4:46:40</td>\n",
       "      <td>3</td>\n",
       "      <td>precipitateQs</td>\n",
       "      <td>predict</td>\n",
       "      <td>Using.Stoich</td>\n",
       "      <td>10_16_2015_synthetic_student_24.mp4</td>\n",
       "      <td>56</td>\n",
       "      <td>0</td>\n",
       "      <td>3_precipitateQs_predict</td>\n",
       "    </tr>\n",
       "    <tr>\n",
       "      <th>974</th>\n",
       "      <td>1836</td>\n",
       "      <td>synthetic_student_25</td>\n",
       "      <td>10/16/15</td>\n",
       "      <td>6:59:59</td>\n",
       "      <td>3</td>\n",
       "      <td>precipitateQs</td>\n",
       "      <td>predict</td>\n",
       "      <td>Using.Stoich</td>\n",
       "      <td>10_16_2015_synthetic_student_25.mp4</td>\n",
       "      <td>853</td>\n",
       "      <td>739</td>\n",
       "      <td>3_precipitateQs_predict</td>\n",
       "    </tr>\n",
       "    <tr>\n",
       "      <th>1016</th>\n",
       "      <td>1903</td>\n",
       "      <td>synthetic_student_26</td>\n",
       "      <td>10/16/15</td>\n",
       "      <td>5:04:21</td>\n",
       "      <td>3</td>\n",
       "      <td>precipitateQs</td>\n",
       "      <td>predict</td>\n",
       "      <td>Using.Stoich</td>\n",
       "      <td>10_16_2015_synthetic_student_26.mp4</td>\n",
       "      <td>1118</td>\n",
       "      <td>898</td>\n",
       "      <td>3_precipitateQs_predict</td>\n",
       "    </tr>\n",
       "    <tr>\n",
       "      <th>1046</th>\n",
       "      <td>1933</td>\n",
       "      <td>synthetic_student_27</td>\n",
       "      <td>10/16/15</td>\n",
       "      <td>9:32:26</td>\n",
       "      <td>3</td>\n",
       "      <td>precipitateQs</td>\n",
       "      <td>predict</td>\n",
       "      <td>Using.Stoich</td>\n",
       "      <td>10_16_2015_synthetic_student_27.mp4</td>\n",
       "      <td>1416</td>\n",
       "      <td>1328</td>\n",
       "      <td>3_precipitateQs_predict</td>\n",
       "    </tr>\n",
       "    <tr>\n",
       "      <th>1089</th>\n",
       "      <td>2001</td>\n",
       "      <td>synthetic_student_28</td>\n",
       "      <td>10/16/15</td>\n",
       "      <td>6:16:59</td>\n",
       "      <td>3</td>\n",
       "      <td>precipitateQs</td>\n",
       "      <td>predict</td>\n",
       "      <td>Using.Stoich</td>\n",
       "      <td>10_16_2015_synthetic_student_28.mp4</td>\n",
       "      <td>965</td>\n",
       "      <td>885</td>\n",
       "      <td>3_precipitateQs_predict</td>\n",
       "    </tr>\n",
       "    <tr>\n",
       "      <th>1132</th>\n",
       "      <td>2119</td>\n",
       "      <td>synthetic_student_29</td>\n",
       "      <td>10/16/15</td>\n",
       "      <td>7:10:04</td>\n",
       "      <td>3</td>\n",
       "      <td>precipitateQs</td>\n",
       "      <td>predict</td>\n",
       "      <td>Using.Stoich</td>\n",
       "      <td>10_16_2015_synthetic_student_29.mp4</td>\n",
       "      <td>1264</td>\n",
       "      <td>1118</td>\n",
       "      <td>3_precipitateQs_predict</td>\n",
       "    </tr>\n",
       "    <tr>\n",
       "      <th>1188</th>\n",
       "      <td>2249</td>\n",
       "      <td>synthetic_student_30</td>\n",
       "      <td>10/16/15</td>\n",
       "      <td>9:31:07</td>\n",
       "      <td>3</td>\n",
       "      <td>precipitateQs</td>\n",
       "      <td>predict</td>\n",
       "      <td>Using.Stoich</td>\n",
       "      <td>10_16_2015_synthetic_student_30.mp4</td>\n",
       "      <td>1318</td>\n",
       "      <td>1121</td>\n",
       "      <td>3_precipitateQs_predict</td>\n",
       "    </tr>\n",
       "    <tr>\n",
       "      <th>1247</th>\n",
       "      <td>2352</td>\n",
       "      <td>synthetic_student_31</td>\n",
       "      <td>10/16/15</td>\n",
       "      <td>7:11:25</td>\n",
       "      <td>3</td>\n",
       "      <td>precipitateQs</td>\n",
       "      <td>predict</td>\n",
       "      <td>Using.Stoich</td>\n",
       "      <td>10_16_2015_synthetic_student_31.mp4</td>\n",
       "      <td>1530</td>\n",
       "      <td>1323</td>\n",
       "      <td>3_precipitateQs_predict</td>\n",
       "    </tr>\n",
       "    <tr>\n",
       "      <th>1294</th>\n",
       "      <td>2449</td>\n",
       "      <td>synthetic_student_32</td>\n",
       "      <td>10/16/15</td>\n",
       "      <td>6:32:05</td>\n",
       "      <td>3</td>\n",
       "      <td>precipitateQs</td>\n",
       "      <td>predict</td>\n",
       "      <td>Using.Stoich</td>\n",
       "      <td>10_16_2015_synthetic_student_32.mp4</td>\n",
       "      <td>1789</td>\n",
       "      <td>1705</td>\n",
       "      <td>3_precipitateQs_predict</td>\n",
       "    </tr>\n",
       "    <tr>\n",
       "      <th>1343</th>\n",
       "      <td>2523</td>\n",
       "      <td>synthetic_student_33</td>\n",
       "      <td>10/16/15</td>\n",
       "      <td>9:50:13</td>\n",
       "      <td>3</td>\n",
       "      <td>precipitateQs</td>\n",
       "      <td>predict</td>\n",
       "      <td>Using.Stoich</td>\n",
       "      <td>10_16_2015_synthetic_student_33.mp4</td>\n",
       "      <td>2435</td>\n",
       "      <td>2342</td>\n",
       "      <td>3_precipitateQs_predict</td>\n",
       "    </tr>\n",
       "    <tr>\n",
       "      <th>1366</th>\n",
       "      <td>2571</td>\n",
       "      <td>synthetic_student_36</td>\n",
       "      <td>10/16/15</td>\n",
       "      <td>4:52:26</td>\n",
       "      <td>3</td>\n",
       "      <td>precipitateQs</td>\n",
       "      <td>predict</td>\n",
       "      <td>Using.Stoich</td>\n",
       "      <td>10_16_2015_synthetic_student_36.mp4</td>\n",
       "      <td>367</td>\n",
       "      <td>254</td>\n",
       "      <td>3_precipitateQs_predict</td>\n",
       "    </tr>\n",
       "    <tr>\n",
       "      <th>1409</th>\n",
       "      <td>2639</td>\n",
       "      <td>synthetic_student_37</td>\n",
       "      <td>10/16/15</td>\n",
       "      <td>7:14:38</td>\n",
       "      <td>3</td>\n",
       "      <td>precipitateQs</td>\n",
       "      <td>predict</td>\n",
       "      <td>Using.Stoich</td>\n",
       "      <td>10_16_2015_synthetic_student_37.mp4</td>\n",
       "      <td>1714</td>\n",
       "      <td>1476</td>\n",
       "      <td>3_precipitateQs_predict</td>\n",
       "    </tr>\n",
       "    <tr>\n",
       "      <th>1547</th>\n",
       "      <td>260</td>\n",
       "      <td>synthetic_student_34</td>\n",
       "      <td>10/26/15</td>\n",
       "      <td>6:54:37</td>\n",
       "      <td>3</td>\n",
       "      <td>precipitateQs</td>\n",
       "      <td>predict</td>\n",
       "      <td>Using.Stoich</td>\n",
       "      <td>10_26_2015_synthetic_student_34.mp4</td>\n",
       "      <td>1416</td>\n",
       "      <td>1271</td>\n",
       "      <td>3_precipitateQs_predict</td>\n",
       "    </tr>\n",
       "    <tr>\n",
       "      <th>1894</th>\n",
       "      <td>961</td>\n",
       "      <td>synthetic_student_35</td>\n",
       "      <td>10/26/15</td>\n",
       "      <td>7:51:56</td>\n",
       "      <td>3</td>\n",
       "      <td>precipitateQs</td>\n",
       "      <td>predict</td>\n",
       "      <td>Using.Stoich</td>\n",
       "      <td>10_26_2015_synthetic_student_35.mp4</td>\n",
       "      <td>1473</td>\n",
       "      <td>1383</td>\n",
       "      <td>3_precipitateQs_predict</td>\n",
       "    </tr>\n",
       "  </tbody>\n",
       "</table>\n",
       "</div>"
      ],
      "text/plain": [
       "      Unnamed: 0    Student      Date     Time  Activity         Screen  \\\n",
       "10            10  synthetic_student_1  10/16/15  4:56:46         3  precipitateQs   \n",
       "44            69  synthetic_student_2  10/16/15  9:35:39         3  precipitateQs   \n",
       "87           137  synthetic_student_3  10/16/15  7:08:05         3  precipitateQs   \n",
       "167          310  synthetic_student_4  10/16/15  7:19:05         3  precipitateQs   \n",
       "202          367  synthetic_student_5  10/16/15  5:03:10         3  precipitateQs   \n",
       "229          454  synthetic_student_6  10/16/15  4:58:24         3  precipitateQs   \n",
       "272          522  synthetic_student_7  10/16/15  6:31:31         3  precipitateQs   \n",
       "302          590  synthetic_student_8  10/16/15  6:21:09         3  precipitateQs   \n",
       "330          643  synthetic_student_9  10/16/15  4:52:23         3  precipitateQs   \n",
       "373          716  synthetic_student_10  10/16/15  9:21:18         3  precipitateQs   \n",
       "437          830  synthetic_student_11  10/16/15  6:33:35         3  precipitateQs   \n",
       "471          889  synthetic_student_12  10/16/15  7:12:35         3  precipitateQs   \n",
       "514         1029  synthetic_student_13  10/16/15  7:12:15         3  precipitateQs   \n",
       "557         1072  synthetic_student_14  10/16/15  9:39:23         3  precipitateQs   \n",
       "600         1165  synthetic_student_15  10/16/15  7:08:36         3  precipitateQs   \n",
       "651         1241  synthetic_student_16  10/16/15  6:36:19         3  precipitateQs   \n",
       "658         1297  synthetic_student_17  10/16/15  4:50:39         3  precipitateQs   \n",
       "701         1365  synthetic_student_18  10/16/15  9:28:38         3  precipitateQs   \n",
       "744         1433  synthetic_student_19  10/16/15  7:07:36         3  precipitateQs   \n",
       "776         1490  synthetic_student_20  10/16/15  4:53:03         3  precipitateQs   \n",
       "844         1635  synthetic_student_21  10/16/15  9:39:08         3  precipitateQs   \n",
       "866         1682  synthetic_student_22  10/16/15  4:48:21         3  precipitateQs   \n",
       "909         1748  synthetic_student_23  10/16/15  6:23:43         3  precipitateQs   \n",
       "931         1770  synthetic_student_24  10/16/15  4:46:40         3  precipitateQs   \n",
       "974         1836  synthetic_student_25  10/16/15  6:59:59         3  precipitateQs   \n",
       "1016        1903  synthetic_student_26  10/16/15  5:04:21         3  precipitateQs   \n",
       "1046        1933  synthetic_student_27  10/16/15  9:32:26         3  precipitateQs   \n",
       "1089        2001  synthetic_student_28  10/16/15  6:16:59         3  precipitateQs   \n",
       "1132        2119  synthetic_student_29  10/16/15  7:10:04         3  precipitateQs   \n",
       "1188        2249  synthetic_student_30  10/16/15  9:31:07         3  precipitateQs   \n",
       "1247        2352  synthetic_student_31  10/16/15  7:11:25         3  precipitateQs   \n",
       "1294        2449  synthetic_student_32  10/16/15  6:32:05         3  precipitateQs   \n",
       "1343        2523  synthetic_student_33  10/16/15  9:50:13         3  precipitateQs   \n",
       "1366        2571  synthetic_student_36  10/16/15  4:52:26         3  precipitateQs   \n",
       "1409        2639  synthetic_student_37  10/16/15  7:14:38         3  precipitateQs   \n",
       "1547         260  synthetic_student_34  10/26/15  6:54:37         3  precipitateQs   \n",
       "1894         961  synthetic_student_35  10/26/15  7:51:56         3  precipitateQs   \n",
       "\n",
       "        Event            KC                S1.Filename  S1.VideoTimeEnd_sec  \\\n",
       "10    predict  Using.Stoich   10_16_2015_synthetic_student_1.mp4                  666   \n",
       "44    predict  Using.Stoich   10_16_2015_synthetic_student_2.mp4                 1540   \n",
       "87    predict  Using.Stoich   10_16_2015_synthetic_student_3.mp4                 1069   \n",
       "167   predict  Using.Stoich   10_16_2015_synthetic_student_4.mp4                 1982   \n",
       "202   predict  Using.Stoich   10_16_2015_synthetic_student_5.mp4                 1052   \n",
       "229   predict  Using.Stoich   10_16_2015_synthetic_student_6.mp4                  764   \n",
       "272   predict  Using.Stoich   10_16_2015_synthetic_student_7.mp4                 1741   \n",
       "302   predict  Using.Stoich   10_16_2015_synthetic_student_8.mp4                 1174   \n",
       "330   predict  Using.Stoich   10_16_2015_synthetic_student_9.mp4                  425   \n",
       "373   predict  Using.Stoich   10_16_2015_synthetic_student_10.mp4                  702   \n",
       "437   predict  Using.Stoich   10_16_2015_synthetic_student_11.mp4                 1760   \n",
       "471   predict  Using.Stoich   10_16_2015_synthetic_student_12.mp4                 1562   \n",
       "514   predict  Using.Stoich   10_16_2015_synthetic_student_13.mp4                 1542   \n",
       "557   predict  Using.Stoich   10_16_2015_synthetic_student_14.mp4                 1758   \n",
       "600   predict  Using.Stoich   10_16_2015_synthetic_student_15.mp4                 1275   \n",
       "651   predict  Using.Stoich   10_16_2015_synthetic_student_16.mp4                 2142   \n",
       "658   predict  Using.Stoich   10_16_2015_synthetic_student_17.mp4                  381   \n",
       "701   predict  Using.Stoich   10_16_2015_synthetic_student_18.mp4                 1140   \n",
       "744   predict  Using.Stoich   10_16_2015_synthetic_student_19.mp4                 1249   \n",
       "776   predict  Using.Stoich   10_16_2015_synthetic_student_20.mp4                  447   \n",
       "844   predict  Using.Stoich  10_16_2015_synthetic_student_21.mp4                 1809   \n",
       "866   predict  Using.Stoich   10_16_2015_synthetic_student_22.mp4                   42   \n",
       "909   predict  Using.Stoich   10_16_2015_synthetic_student_23.mp4                 1251   \n",
       "931   predict  Using.Stoich   10_16_2015_synthetic_student_24.mp4                   56   \n",
       "974   predict  Using.Stoich   10_16_2015_synthetic_student_25.mp4                  853   \n",
       "1016  predict  Using.Stoich   10_16_2015_synthetic_student_26.mp4                 1118   \n",
       "1046  predict  Using.Stoich   10_16_2015_synthetic_student_27.mp4                 1416   \n",
       "1089  predict  Using.Stoich   10_16_2015_synthetic_student_28.mp4                  965   \n",
       "1132  predict  Using.Stoich   10_16_2015_synthetic_student_29.mp4                 1264   \n",
       "1188  predict  Using.Stoich   10_16_2015_synthetic_student_30.mp4                 1318   \n",
       "1247  predict  Using.Stoich   10_16_2015_synthetic_student_31.mp4                 1530   \n",
       "1294  predict  Using.Stoich   10_16_2015_synthetic_student_32.mp4                 1789   \n",
       "1343  predict  Using.Stoich   10_16_2015_synthetic_student_33.mp4                 2435   \n",
       "1366  predict  Using.Stoich   10_16_2015_synthetic_student_36.mp4                  367   \n",
       "1409  predict  Using.Stoich   10_16_2015_synthetic_student_37.mp4                 1714   \n",
       "1547  predict  Using.Stoich   10_26_2015_synthetic_student_34.mp4                 1416   \n",
       "1894  predict  Using.Stoich   10_26_2015_synthetic_student_35.mp4                 1473   \n",
       "\n",
       "      S1.VideoTimeStart_sec                    Label  \n",
       "10                      337  3_precipitateQs_predict  \n",
       "44                     1393  3_precipitateQs_predict  \n",
       "87                      944  3_precipitateQs_predict  \n",
       "167                    1826  3_precipitateQs_predict  \n",
       "202                     837  3_precipitateQs_predict  \n",
       "229                     653  3_precipitateQs_predict  \n",
       "272                    1554  3_precipitateQs_predict  \n",
       "302                    1051  3_precipitateQs_predict  \n",
       "330                     237  3_precipitateQs_predict  \n",
       "373                     651  3_precipitateQs_predict  \n",
       "437                    1536  3_precipitateQs_predict  \n",
       "471                    1432  3_precipitateQs_predict  \n",
       "514                    1434  3_precipitateQs_predict  \n",
       "557                    1539  3_precipitateQs_predict  \n",
       "600                    1180  3_precipitateQs_predict  \n",
       "651                    1891  3_precipitateQs_predict  \n",
       "658                     276  3_precipitateQs_predict  \n",
       "701                    1004  3_precipitateQs_predict  \n",
       "744                    1147  3_precipitateQs_predict  \n",
       "776                     340  3_precipitateQs_predict  \n",
       "844                    1630  3_precipitateQs_predict  \n",
       "866                       0  3_precipitateQs_predict  \n",
       "909                    1129  3_precipitateQs_predict  \n",
       "931                       0  3_precipitateQs_predict  \n",
       "974                     739  3_precipitateQs_predict  \n",
       "1016                    898  3_precipitateQs_predict  \n",
       "1046                   1328  3_precipitateQs_predict  \n",
       "1089                    885  3_precipitateQs_predict  \n",
       "1132                   1118  3_precipitateQs_predict  \n",
       "1188                   1121  3_precipitateQs_predict  \n",
       "1247                   1323  3_precipitateQs_predict  \n",
       "1294                   1705  3_precipitateQs_predict  \n",
       "1343                   2342  3_precipitateQs_predict  \n",
       "1366                    254  3_precipitateQs_predict  \n",
       "1409                   1476  3_precipitateQs_predict  \n",
       "1547                   1271  3_precipitateQs_predict  \n",
       "1894                   1383  3_precipitateQs_predict  "
      ]
     },
     "execution_count": 2,
     "metadata": {},
     "output_type": "execute_result"
    }
   ],
   "source": [
    "queried_rows = df.query(query_string)\n",
    "queried_rows"
   ]
  },
  {
   "cell_type": "code",
   "execution_count": 3,
   "metadata": {
    "collapsed": false
   },
   "outputs": [
    {
     "name": "stdout",
     "output_type": "stream",
     "text": [
      "[MoviePy] >>>> Building video High_Hints/3_precipitateQs_predict_question__synthetic_student_1_10.mp4\n",
      "[MoviePy] Writing audio in 3_precipitateQs_predict_question__synthetic_student_1_10TEMP_MPY_wvf_snd.mp3\n"
     ]
    },
    {
     "name": "stderr",
     "output_type": "stream",
     "text": [
      "100%|██████████| 7255/7255 [00:15<00:00, 457.46it/s]"
     ]
    },
    {
     "name": "stdout",
     "output_type": "stream",
     "text": [
      "[MoviePy] Done.\n",
      "[MoviePy] Writing video High_Hints/3_precipitateQs_predict_question__synthetic_student_1_10.mp4\n"
     ]
    },
    {
     "name": "stderr",
     "output_type": "stream",
     "text": [
      "\n",
      "100%|█████████▉| 9870/9871 [01:13<00:00, 134.98it/s]\n"
     ]
    },
    {
     "name": "stdout",
     "output_type": "stream",
     "text": [
      "[MoviePy] Done.\n",
      "[MoviePy] >>>> Video ready: High_Hints/3_precipitateQs_predict_question__synthetic_student_1_10.mp4 \n",
      "\n",
      "[MoviePy] >>>> Building video High_Hints/3_precipitateQs_predict_question__synthetic_student_2_44.mp4\n",
      "[MoviePy] Writing audio in 3_precipitateQs_predict_question__synthetic_student_2_44TEMP_MPY_wvf_snd.mp3\n"
     ]
    },
    {
     "name": "stderr",
     "output_type": "stream",
     "text": [
      "100%|██████████| 3242/3242 [00:07<00:00, 444.14it/s]\n"
     ]
    },
    {
     "name": "stdout",
     "output_type": "stream",
     "text": [
      "[MoviePy] Done.\n",
      "[MoviePy] Writing video High_Hints/3_precipitateQs_predict_question__synthetic_student_2_44.mp4\n"
     ]
    },
    {
     "name": "stderr",
     "output_type": "stream",
     "text": [
      "100%|█████████▉| 4410/4411 [00:30<00:00, 144.27it/s]\n"
     ]
    },
    {
     "name": "stdout",
     "output_type": "stream",
     "text": [
      "[MoviePy] Done.\n",
      "[MoviePy] >>>> Video ready: High_Hints/3_precipitateQs_predict_question__synthetic_student_2_44.mp4 \n",
      "\n",
      "[MoviePy] >>>> Building video High_Hints/3_precipitateQs_predict_question__synthetic_student_3_87.mp4\n",
      "[MoviePy] Writing audio in 3_precipitateQs_predict_question__synthetic_student_3_87TEMP_MPY_wvf_snd.mp3\n"
     ]
    },
    {
     "name": "stderr",
     "output_type": "stream",
     "text": [
      "100%|██████████| 2757/2757 [00:05<00:00, 473.02it/s]\n"
     ]
    },
    {
     "name": "stdout",
     "output_type": "stream",
     "text": [
      "[MoviePy] Done.\n",
      "[MoviePy] Writing video High_Hints/3_precipitateQs_predict_question__synthetic_student_3_87.mp4\n"
     ]
    },
    {
     "name": "stderr",
     "output_type": "stream",
     "text": [
      "100%|█████████▉| 3750/3751 [00:24<00:00, 150.87it/s]\n"
     ]
    },
    {
     "name": "stdout",
     "output_type": "stream",
     "text": [
      "[MoviePy] Done.\n",
      "[MoviePy] >>>> Video ready: High_Hints/3_precipitateQs_predict_question__synthetic_student_3_87.mp4 \n",
      "\n",
      "[MoviePy] >>>> Building video High_Hints/3_precipitateQs_predict_question__synthetic_student_4_167.mp4\n",
      "[MoviePy] Writing audio in 3_precipitateQs_predict_question__synthetic_student_4_167TEMP_MPY_wvf_snd.mp3\n"
     ]
    },
    {
     "name": "stderr",
     "output_type": "stream",
     "text": [
      "100%|██████████| 3440/3440 [00:07<00:00, 454.55it/s]\n"
     ]
    },
    {
     "name": "stdout",
     "output_type": "stream",
     "text": [
      "[MoviePy] Done.\n",
      "[MoviePy] Writing video High_Hints/3_precipitateQs_predict_question__synthetic_student_4_167.mp4\n"
     ]
    },
    {
     "name": "stderr",
     "output_type": "stream",
     "text": [
      "100%|█████████▉| 4680/4681 [00:30<00:00, 153.79it/s]\n"
     ]
    },
    {
     "name": "stdout",
     "output_type": "stream",
     "text": [
      "[MoviePy] Done.\n",
      "[MoviePy] >>>> Video ready: High_Hints/3_precipitateQs_predict_question__synthetic_student_4_167.mp4 \n",
      "\n",
      "[MoviePy] >>>> Building video High_Hints/3_precipitateQs_predict_question__synthetic_student_5_202.mp4\n",
      "[MoviePy] Writing audio in 3_precipitateQs_predict_question__synthetic_student_5_202TEMP_MPY_wvf_snd.mp3\n"
     ]
    },
    {
     "name": "stderr",
     "output_type": "stream",
     "text": [
      "100%|██████████| 4741/4741 [00:09<00:00, 486.94it/s]"
     ]
    },
    {
     "name": "stdout",
     "output_type": "stream",
     "text": [
      "[MoviePy] Done.\n",
      "[MoviePy] Writing video High_Hints/3_precipitateQs_predict_question__synthetic_student_5_202.mp4\n"
     ]
    },
    {
     "name": "stderr",
     "output_type": "stream",
     "text": [
      "\n",
      "100%|█████████▉| 6450/6451 [00:42<00:00, 153.35it/s]\n"
     ]
    },
    {
     "name": "stdout",
     "output_type": "stream",
     "text": [
      "[MoviePy] Done.\n",
      "[MoviePy] >>>> Video ready: High_Hints/3_precipitateQs_predict_question__synthetic_student_5_202.mp4 \n",
      "\n",
      "[MoviePy] >>>> Building video High_Hints/3_precipitateQs_predict_question__synthetic_student_6_229.mp4\n",
      "[MoviePy] Writing audio in 3_precipitateQs_predict_question__synthetic_student_6_229TEMP_MPY_wvf_snd.mp3\n"
     ]
    },
    {
     "name": "stderr",
     "output_type": "stream",
     "text": [
      "100%|██████████| 2448/2448 [00:05<00:00, 471.23it/s]"
     ]
    },
    {
     "name": "stdout",
     "output_type": "stream",
     "text": [
      "[MoviePy] Done.\n",
      "[MoviePy] Writing video High_Hints/3_precipitateQs_predict_question__synthetic_student_6_229.mp4\n"
     ]
    },
    {
     "name": "stderr",
     "output_type": "stream",
     "text": [
      "\n",
      "100%|█████████▉| 3330/3331 [00:20<00:00, 163.05it/s]\n"
     ]
    },
    {
     "name": "stdout",
     "output_type": "stream",
     "text": [
      "[MoviePy] Done.\n",
      "[MoviePy] >>>> Video ready: High_Hints/3_precipitateQs_predict_question__synthetic_student_6_229.mp4 \n",
      "\n",
      "[MoviePy] >>>> Building video High_Hints/3_precipitateQs_predict_question__synthetic_student_7_272.mp4\n",
      "[MoviePy] Writing audio in 3_precipitateQs_predict_question__synthetic_student_7_272TEMP_MPY_wvf_snd.mp3\n"
     ]
    },
    {
     "name": "stderr",
     "output_type": "stream",
     "text": [
      "100%|██████████| 4124/4124 [00:08<00:00, 473.06it/s]"
     ]
    },
    {
     "name": "stdout",
     "output_type": "stream",
     "text": [
      "[MoviePy] Done.\n",
      "[MoviePy] Writing video High_Hints/3_precipitateQs_predict_question__synthetic_student_7_272.mp4\n"
     ]
    },
    {
     "name": "stderr",
     "output_type": "stream",
     "text": [
      "\n",
      "100%|█████████▉| 5610/5611 [00:37<00:00, 149.58it/s]\n"
     ]
    },
    {
     "name": "stdout",
     "output_type": "stream",
     "text": [
      "[MoviePy] Done.\n",
      "[MoviePy] >>>> Video ready: High_Hints/3_precipitateQs_predict_question__synthetic_student_7_272.mp4 \n",
      "\n",
      "[MoviePy] >>>> Building video High_Hints/3_precipitateQs_predict_question__synthetic_student_8_302.mp4\n",
      "[MoviePy] Writing audio in 3_precipitateQs_predict_question__synthetic_student_8_302TEMP_MPY_wvf_snd.mp3\n"
     ]
    },
    {
     "name": "stderr",
     "output_type": "stream",
     "text": [
      "100%|██████████| 2713/2713 [00:05<00:00, 459.68it/s]"
     ]
    },
    {
     "name": "stdout",
     "output_type": "stream",
     "text": [
      "[MoviePy] Done.\n",
      "[MoviePy] Writing video High_Hints/3_precipitateQs_predict_question__synthetic_student_8_302.mp4\n"
     ]
    },
    {
     "name": "stderr",
     "output_type": "stream",
     "text": [
      "\n",
      "100%|█████████▉| 3690/3691 [00:23<00:00, 154.76it/s]\n"
     ]
    },
    {
     "name": "stdout",
     "output_type": "stream",
     "text": [
      "[MoviePy] Done.\n",
      "[MoviePy] >>>> Video ready: High_Hints/3_precipitateQs_predict_question__synthetic_student_8_302.mp4 \n",
      "\n",
      "[MoviePy] >>>> Building video High_Hints/3_precipitateQs_predict_question__synthetic_student_9_330.mp4\n",
      "[MoviePy] Writing audio in 3_precipitateQs_predict_question__synthetic_student_9_330TEMP_MPY_wvf_snd.mp3\n"
     ]
    },
    {
     "name": "stderr",
     "output_type": "stream",
     "text": [
      "100%|██████████| 4146/4146 [00:08<00:00, 500.80it/s]\n"
     ]
    },
    {
     "name": "stdout",
     "output_type": "stream",
     "text": [
      "[MoviePy] Done.\n",
      "[MoviePy] Writing video High_Hints/3_precipitateQs_predict_question__synthetic_student_9_330.mp4\n"
     ]
    },
    {
     "name": "stderr",
     "output_type": "stream",
     "text": [
      "100%|█████████▉| 5640/5641 [00:35<00:00, 158.08it/s]\n"
     ]
    },
    {
     "name": "stdout",
     "output_type": "stream",
     "text": [
      "[MoviePy] Done.\n",
      "[MoviePy] >>>> Video ready: High_Hints/3_precipitateQs_predict_question__synthetic_student_9_330.mp4 \n",
      "\n",
      "[MoviePy] >>>> Building video High_Hints/3_precipitateQs_predict_question__synthetic_student_10_373.mp4\n",
      "[MoviePy] Writing audio in 3_precipitateQs_predict_question__synthetic_student_10_373TEMP_MPY_wvf_snd.mp3\n"
     ]
    },
    {
     "name": "stderr",
     "output_type": "stream",
     "text": [
      "100%|██████████| 1125/1125 [00:02<00:00, 388.92it/s]"
     ]
    },
    {
     "name": "stdout",
     "output_type": "stream",
     "text": [
      "[MoviePy] Done.\n",
      "[MoviePy] Writing video High_Hints/3_precipitateQs_predict_question__synthetic_student_10_373.mp4\n"
     ]
    },
    {
     "name": "stderr",
     "output_type": "stream",
     "text": [
      "\n",
      "100%|█████████▉| 1530/1531 [00:13<00:00, 112.56it/s]\n"
     ]
    },
    {
     "name": "stdout",
     "output_type": "stream",
     "text": [
      "[MoviePy] Done.\n",
      "[MoviePy] >>>> Video ready: High_Hints/3_precipitateQs_predict_question__synthetic_student_10_373.mp4 \n",
      "\n",
      "[MoviePy] >>>> Building video High_Hints/3_precipitateQs_predict_question__synthetic_student_11_437.mp4\n",
      "[MoviePy] Writing audio in 3_precipitateQs_predict_question__synthetic_student_11_437TEMP_MPY_wvf_snd.mp3\n"
     ]
    },
    {
     "name": "stderr",
     "output_type": "stream",
     "text": [
      "100%|██████████| 4940/4940 [00:10<00:00, 474.54it/s]\n"
     ]
    },
    {
     "name": "stdout",
     "output_type": "stream",
     "text": [
      "[MoviePy] Done.\n",
      "[MoviePy] Writing video High_Hints/3_precipitateQs_predict_question__synthetic_student_11_437.mp4\n"
     ]
    },
    {
     "name": "stderr",
     "output_type": "stream",
     "text": [
      "100%|█████████▉| 6720/6721 [00:50<00:00, 132.54it/s]\n"
     ]
    },
    {
     "name": "stdout",
     "output_type": "stream",
     "text": [
      "[MoviePy] Done.\n",
      "[MoviePy] >>>> Video ready: High_Hints/3_precipitateQs_predict_question__synthetic_student_11_437.mp4 \n",
      "\n",
      "[MoviePy] >>>> Building video High_Hints/3_precipitateQs_predict_question__synthetic_student_12_471.mp4\n",
      "[MoviePy] Writing audio in 3_precipitateQs_predict_question__synthetic_student_12_471TEMP_MPY_wvf_snd.mp3\n"
     ]
    },
    {
     "name": "stderr",
     "output_type": "stream",
     "text": [
      "100%|██████████| 2867/2867 [00:06<00:00, 464.27it/s]"
     ]
    },
    {
     "name": "stdout",
     "output_type": "stream",
     "text": [
      "[MoviePy] Done.\n",
      "[MoviePy] Writing video High_Hints/3_precipitateQs_predict_question__synthetic_student_12_471.mp4\n"
     ]
    },
    {
     "name": "stderr",
     "output_type": "stream",
     "text": [
      "\n",
      "100%|█████████▉| 3900/3901 [00:29<00:00, 130.92it/s]\n"
     ]
    },
    {
     "name": "stdout",
     "output_type": "stream",
     "text": [
      "[MoviePy] Done.\n",
      "[MoviePy] >>>> Video ready: High_Hints/3_precipitateQs_predict_question__synthetic_student_12_471.mp4 \n",
      "\n",
      "[MoviePy] >>>> Building video High_Hints/3_precipitateQs_predict_question__synthetic_student_13_514.mp4\n",
      "[MoviePy] Writing audio in 3_precipitateQs_predict_question__synthetic_student_13_514TEMP_MPY_wvf_snd.mp3\n"
     ]
    },
    {
     "name": "stderr",
     "output_type": "stream",
     "text": [
      "100%|██████████| 2382/2382 [00:05<00:00, 431.12it/s]"
     ]
    },
    {
     "name": "stdout",
     "output_type": "stream",
     "text": [
      "[MoviePy] Done.\n",
      "[MoviePy] Writing video High_Hints/3_precipitateQs_predict_question__synthetic_student_13_514.mp4\n"
     ]
    },
    {
     "name": "stderr",
     "output_type": "stream",
     "text": [
      "\n",
      "100%|█████████▉| 3240/3241 [00:26<00:00, 124.29it/s]\n"
     ]
    },
    {
     "name": "stdout",
     "output_type": "stream",
     "text": [
      "[MoviePy] Done.\n",
      "[MoviePy] >>>> Video ready: High_Hints/3_precipitateQs_predict_question__synthetic_student_13_514.mp4 \n",
      "\n",
      "[MoviePy] >>>> Building video High_Hints/3_precipitateQs_predict_question__synthetic_student_14_557.mp4\n",
      "[MoviePy] Writing audio in 3_precipitateQs_predict_question__synthetic_student_14_557TEMP_MPY_wvf_snd.mp3\n"
     ]
    },
    {
     "name": "stderr",
     "output_type": "stream",
     "text": [
      "100%|██████████| 4829/4829 [00:11<00:00, 421.11it/s]"
     ]
    },
    {
     "name": "stdout",
     "output_type": "stream",
     "text": [
      "[MoviePy] Done.\n",
      "[MoviePy] Writing video High_Hints/3_precipitateQs_predict_question__synthetic_student_14_557.mp4\n"
     ]
    },
    {
     "name": "stderr",
     "output_type": "stream",
     "text": [
      "\n",
      "100%|█████████▉| 6570/6571 [00:57<00:00, 114.76it/s]\n"
     ]
    },
    {
     "name": "stdout",
     "output_type": "stream",
     "text": [
      "[MoviePy] Done.\n",
      "[MoviePy] >>>> Video ready: High_Hints/3_precipitateQs_predict_question__synthetic_student_14_557.mp4 \n",
      "\n",
      "[MoviePy] >>>> Building video High_Hints/3_precipitateQs_predict_question__synthetic_student_15_600.mp4\n",
      "[MoviePy] Writing audio in 3_precipitateQs_predict_question__synthetic_student_15_600TEMP_MPY_wvf_snd.mp3\n"
     ]
    },
    {
     "name": "stderr",
     "output_type": "stream",
     "text": [
      "100%|██████████| 2095/2095 [00:05<00:00, 353.61it/s]"
     ]
    },
    {
     "name": "stdout",
     "output_type": "stream",
     "text": [
      "[MoviePy] Done.\n",
      "[MoviePy] Writing video High_Hints/3_precipitateQs_predict_question__synthetic_student_15_600.mp4\n"
     ]
    },
    {
     "name": "stderr",
     "output_type": "stream",
     "text": [
      "\n",
      "100%|█████████▉| 2850/2851 [00:25<00:00, 126.45it/s]\n"
     ]
    },
    {
     "name": "stdout",
     "output_type": "stream",
     "text": [
      "[MoviePy] Done.\n",
      "[MoviePy] >>>> Video ready: High_Hints/3_precipitateQs_predict_question__synthetic_student_15_600.mp4 \n",
      "\n",
      "[MoviePy] >>>> Building video High_Hints/3_precipitateQs_predict_question__synthetic_student_16_651.mp4\n",
      "[MoviePy] Writing audio in 3_precipitateQs_predict_question__synthetic_student_16_651TEMP_MPY_wvf_snd.mp3\n"
     ]
    },
    {
     "name": "stderr",
     "output_type": "stream",
     "text": [
      "100%|██████████| 5535/5535 [00:14<00:00, 386.32it/s]"
     ]
    },
    {
     "name": "stdout",
     "output_type": "stream",
     "text": [
      "[MoviePy] Done.\n",
      "[MoviePy] Writing video High_Hints/3_precipitateQs_predict_question__synthetic_student_16_651.mp4\n"
     ]
    },
    {
     "name": "stderr",
     "output_type": "stream",
     "text": [
      "\n",
      "100%|█████████▉| 7530/7531 [00:57<00:00, 132.08it/s]\n"
     ]
    },
    {
     "name": "stdout",
     "output_type": "stream",
     "text": [
      "[MoviePy] Done.\n",
      "[MoviePy] >>>> Video ready: High_Hints/3_precipitateQs_predict_question__synthetic_student_16_651.mp4 \n",
      "\n",
      "[MoviePy] >>>> Building video High_Hints/3_precipitateQs_predict_question__synthetic_student_17_658.mp4\n",
      "[MoviePy] Writing audio in 3_precipitateQs_predict_question__synthetic_student_17_658TEMP_MPY_wvf_snd.mp3\n"
     ]
    },
    {
     "name": "stderr",
     "output_type": "stream",
     "text": [
      "100%|██████████| 2316/2316 [00:05<00:00, 436.05it/s]"
     ]
    },
    {
     "name": "stdout",
     "output_type": "stream",
     "text": [
      "[MoviePy] Done.\n",
      "[MoviePy] Writing video High_Hints/3_precipitateQs_predict_question__synthetic_student_17_658.mp4\n"
     ]
    },
    {
     "name": "stderr",
     "output_type": "stream",
     "text": [
      "\n",
      "100%|█████████▉| 3150/3151 [00:26<00:00, 119.35it/s]\n"
     ]
    },
    {
     "name": "stdout",
     "output_type": "stream",
     "text": [
      "[MoviePy] Done.\n",
      "[MoviePy] >>>> Video ready: High_Hints/3_precipitateQs_predict_question__synthetic_student_17_658.mp4 \n",
      "\n",
      "[MoviePy] >>>> Building video High_Hints/3_precipitateQs_predict_question__synthetic_student_18_701.mp4\n",
      "[MoviePy] Writing audio in 3_precipitateQs_predict_question__synthetic_student_18_701TEMP_MPY_wvf_snd.mp3\n"
     ]
    },
    {
     "name": "stderr",
     "output_type": "stream",
     "text": [
      "100%|██████████| 2999/2999 [00:07<00:00, 407.74it/s]"
     ]
    },
    {
     "name": "stdout",
     "output_type": "stream",
     "text": [
      "[MoviePy] Done.\n",
      "[MoviePy] Writing video High_Hints/3_precipitateQs_predict_question__synthetic_student_18_701.mp4\n"
     ]
    },
    {
     "name": "stderr",
     "output_type": "stream",
     "text": [
      "\n",
      "100%|█████████▉| 4080/4081 [00:35<00:00, 115.01it/s]\n"
     ]
    },
    {
     "name": "stdout",
     "output_type": "stream",
     "text": [
      "[MoviePy] Done.\n",
      "[MoviePy] >>>> Video ready: High_Hints/3_precipitateQs_predict_question__synthetic_student_18_701.mp4 \n",
      "\n",
      "[MoviePy] >>>> Building video High_Hints/3_precipitateQs_predict_question__synthetic_student_19_744.mp4\n",
      "[MoviePy] Writing audio in 3_precipitateQs_predict_question__synthetic_student_19_744TEMP_MPY_wvf_snd.mp3\n"
     ]
    },
    {
     "name": "stderr",
     "output_type": "stream",
     "text": [
      "100%|██████████| 2250/2250 [00:05<00:00, 377.33it/s]"
     ]
    },
    {
     "name": "stdout",
     "output_type": "stream",
     "text": [
      "[MoviePy] Done.\n",
      "[MoviePy] Writing video High_Hints/3_precipitateQs_predict_question__synthetic_student_19_744.mp4\n"
     ]
    },
    {
     "name": "stderr",
     "output_type": "stream",
     "text": [
      "\n",
      "100%|█████████▉| 3060/3061 [00:23<00:00, 110.76it/s]\n"
     ]
    },
    {
     "name": "stdout",
     "output_type": "stream",
     "text": [
      "[MoviePy] Done.\n",
      "[MoviePy] >>>> Video ready: High_Hints/3_precipitateQs_predict_question__synthetic_student_19_744.mp4 \n",
      "\n",
      "[MoviePy] >>>> Building video High_Hints/3_precipitateQs_predict_question__synthetic_student_20_776.mp4\n",
      "[MoviePy] Writing audio in 3_precipitateQs_predict_question__synthetic_student_20_776TEMP_MPY_wvf_snd.mp3\n"
     ]
    },
    {
     "name": "stderr",
     "output_type": "stream",
     "text": [
      "100%|██████████| 2360/2360 [00:05<00:00, 424.46it/s]\n"
     ]
    },
    {
     "name": "stdout",
     "output_type": "stream",
     "text": [
      "[MoviePy] Done.\n",
      "[MoviePy] Writing video High_Hints/3_precipitateQs_predict_question__synthetic_student_20_776.mp4\n"
     ]
    },
    {
     "name": "stderr",
     "output_type": "stream",
     "text": [
      "100%|█████████▉| 3210/3211 [00:22<00:00, 145.22it/s]\n"
     ]
    },
    {
     "name": "stdout",
     "output_type": "stream",
     "text": [
      "[MoviePy] Done.\n",
      "[MoviePy] >>>> Video ready: High_Hints/3_precipitateQs_predict_question__synthetic_student_20_776.mp4 \n",
      "\n",
      "[MoviePy] >>>> Building video High_Hints/3_precipitateQs_predict_question__synthetic_student_21_844.mp4\n",
      "[MoviePy] Writing audio in 3_precipitateQs_predict_question__synthetic_student_21_844TEMP_MPY_wvf_snd.mp3\n"
     ]
    },
    {
     "name": "stderr",
     "output_type": "stream",
     "text": [
      "100%|██████████| 3947/3947 [00:08<00:00, 485.10it/s]"
     ]
    },
    {
     "name": "stdout",
     "output_type": "stream",
     "text": [
      "[MoviePy] Done.\n",
      "[MoviePy] Writing video High_Hints/3_precipitateQs_predict_question__synthetic_student_21_844.mp4\n"
     ]
    },
    {
     "name": "stderr",
     "output_type": "stream",
     "text": [
      "\n",
      "100%|█████████▉| 5370/5371 [00:41<00:00, 128.73it/s]\n"
     ]
    },
    {
     "name": "stdout",
     "output_type": "stream",
     "text": [
      "[MoviePy] Done.\n",
      "[MoviePy] >>>> Video ready: High_Hints/3_precipitateQs_predict_question__synthetic_student_21_844.mp4 \n",
      "\n",
      "[MoviePy] >>>> Building video High_Hints/3_precipitateQs_predict_question__synthetic_student_22_866.mp4\n",
      "[MoviePy] Writing audio in 3_precipitateQs_predict_question__synthetic_student_22_866TEMP_MPY_wvf_snd.mp3\n"
     ]
    },
    {
     "name": "stderr",
     "output_type": "stream",
     "text": [
      "100%|██████████| 927/927 [00:02<00:00, 438.77it/s]"
     ]
    },
    {
     "name": "stdout",
     "output_type": "stream",
     "text": [
      "[MoviePy] Done.\n",
      "[MoviePy] Writing video High_Hints/3_precipitateQs_predict_question__synthetic_student_22_866.mp4\n"
     ]
    },
    {
     "name": "stderr",
     "output_type": "stream",
     "text": [
      "\n",
      "100%|█████████▉| 1260/1261 [00:08<00:00, 147.15it/s]\n"
     ]
    },
    {
     "name": "stdout",
     "output_type": "stream",
     "text": [
      "[MoviePy] Done.\n",
      "[MoviePy] >>>> Video ready: High_Hints/3_precipitateQs_predict_question__synthetic_student_22_866.mp4 \n",
      "\n",
      "[MoviePy] >>>> Building video High_Hints/3_precipitateQs_predict_question__synthetic_student_23_909.mp4\n",
      "[MoviePy] Writing audio in 3_precipitateQs_predict_question__synthetic_student_23_909TEMP_MPY_wvf_snd.mp3\n"
     ]
    },
    {
     "name": "stderr",
     "output_type": "stream",
     "text": [
      "100%|██████████| 2691/2691 [00:05<00:00, 476.78it/s]"
     ]
    },
    {
     "name": "stdout",
     "output_type": "stream",
     "text": [
      "[MoviePy] Done.\n",
      "[MoviePy] Writing video High_Hints/3_precipitateQs_predict_question__synthetic_student_23_909.mp4\n"
     ]
    },
    {
     "name": "stderr",
     "output_type": "stream",
     "text": [
      "\n",
      "100%|█████████▉| 3660/3661 [00:24<00:00, 149.79it/s]\n"
     ]
    },
    {
     "name": "stdout",
     "output_type": "stream",
     "text": [
      "[MoviePy] Done.\n",
      "[MoviePy] >>>> Video ready: High_Hints/3_precipitateQs_predict_question__synthetic_student_23_909.mp4 \n",
      "\n",
      "[MoviePy] >>>> Building video High_Hints/3_precipitateQs_predict_question__synthetic_student_24_931.mp4\n",
      "[MoviePy] Writing audio in 3_precipitateQs_predict_question__synthetic_student_24_931TEMP_MPY_wvf_snd.mp3\n"
     ]
    },
    {
     "name": "stderr",
     "output_type": "stream",
     "text": [
      "100%|██████████| 1235/1235 [00:02<00:00, 474.57it/s]"
     ]
    },
    {
     "name": "stdout",
     "output_type": "stream",
     "text": [
      "[MoviePy] Done.\n",
      "[MoviePy] Writing video High_Hints/3_precipitateQs_predict_question__synthetic_student_24_931.mp4\n"
     ]
    },
    {
     "name": "stderr",
     "output_type": "stream",
     "text": [
      "\n",
      "100%|█████████▉| 1680/1681 [00:11<00:00, 143.08it/s]\n"
     ]
    },
    {
     "name": "stdout",
     "output_type": "stream",
     "text": [
      "[MoviePy] Done.\n",
      "[MoviePy] >>>> Video ready: High_Hints/3_precipitateQs_predict_question__synthetic_student_24_931.mp4 \n",
      "\n",
      "[MoviePy] >>>> Building video High_Hints/3_precipitateQs_predict_question__synthetic_student_25_974.mp4\n",
      "[MoviePy] Writing audio in 3_precipitateQs_predict_question__synthetic_student_25_974TEMP_MPY_wvf_snd.mp3\n"
     ]
    },
    {
     "name": "stderr",
     "output_type": "stream",
     "text": [
      "100%|██████████| 2514/2514 [00:05<00:00, 463.90it/s]"
     ]
    },
    {
     "name": "stdout",
     "output_type": "stream",
     "text": [
      "[MoviePy] Done.\n",
      "[MoviePy] Writing video High_Hints/3_precipitateQs_predict_question__synthetic_student_25_974.mp4\n"
     ]
    },
    {
     "name": "stderr",
     "output_type": "stream",
     "text": [
      "\n",
      "100%|█████████▉| 3420/3421 [00:24<00:00, 137.91it/s]\n"
     ]
    },
    {
     "name": "stdout",
     "output_type": "stream",
     "text": [
      "[MoviePy] Done.\n",
      "[MoviePy] >>>> Video ready: High_Hints/3_precipitateQs_predict_question__synthetic_student_25_974.mp4 \n",
      "\n",
      "[MoviePy] >>>> Building video High_Hints/3_precipitateQs_predict_question__synthetic_student_26_1016.mp4\n",
      "[MoviePy] Writing audio in 3_precipitateQs_predict_question__synthetic_student_26_1016TEMP_MPY_wvf_snd.mp3\n"
     ]
    },
    {
     "name": "stderr",
     "output_type": "stream",
     "text": [
      "100%|██████████| 4851/4851 [00:10<00:00, 451.16it/s]\n"
     ]
    },
    {
     "name": "stdout",
     "output_type": "stream",
     "text": [
      "[MoviePy] Done.\n",
      "[MoviePy] Writing video High_Hints/3_precipitateQs_predict_question__synthetic_student_26_1016.mp4\n"
     ]
    },
    {
     "name": "stderr",
     "output_type": "stream",
     "text": [
      "100%|█████████▉| 6600/6601 [00:44<00:00, 148.85it/s]\n"
     ]
    },
    {
     "name": "stdout",
     "output_type": "stream",
     "text": [
      "[MoviePy] Done.\n",
      "[MoviePy] >>>> Video ready: High_Hints/3_precipitateQs_predict_question__synthetic_student_26_1016.mp4 \n",
      "\n",
      "[MoviePy] >>>> Building video High_Hints/3_precipitateQs_predict_question__synthetic_student_27_1046.mp4\n",
      "[MoviePy] Writing audio in 3_precipitateQs_predict_question__synthetic_student_27_1046TEMP_MPY_wvf_snd.mp3\n"
     ]
    },
    {
     "name": "stderr",
     "output_type": "stream",
     "text": [
      "100%|██████████| 1941/1941 [00:04<00:00, 454.54it/s]"
     ]
    },
    {
     "name": "stdout",
     "output_type": "stream",
     "text": [
      "[MoviePy] Done.\n",
      "[MoviePy] Writing video High_Hints/3_precipitateQs_predict_question__synthetic_student_27_1046.mp4\n"
     ]
    },
    {
     "name": "stderr",
     "output_type": "stream",
     "text": [
      "\n",
      "100%|█████████▉| 2640/2641 [00:19<00:00, 138.25it/s]\n"
     ]
    },
    {
     "name": "stdout",
     "output_type": "stream",
     "text": [
      "[MoviePy] Done.\n",
      "[MoviePy] >>>> Video ready: High_Hints/3_precipitateQs_predict_question__synthetic_student_27_1046.mp4 \n",
      "\n",
      "[MoviePy] >>>> Building video High_Hints/3_precipitateQs_predict_question__synthetic_student_28_1089.mp4\n",
      "[MoviePy] Writing audio in 3_precipitateQs_predict_question__synthetic_student_28_1089TEMP_MPY_wvf_snd.mp3\n"
     ]
    },
    {
     "name": "stderr",
     "output_type": "stream",
     "text": [
      "100%|██████████| 1764/1764 [00:04<00:00, 435.53it/s]"
     ]
    },
    {
     "name": "stdout",
     "output_type": "stream",
     "text": [
      "[MoviePy] Done.\n",
      "[MoviePy] Writing video High_Hints/3_precipitateQs_predict_question__synthetic_student_28_1089.mp4\n"
     ]
    },
    {
     "name": "stderr",
     "output_type": "stream",
     "text": [
      "\n",
      "100%|█████████▉| 2400/2401 [00:17<00:00, 139.52it/s]\n"
     ]
    },
    {
     "name": "stdout",
     "output_type": "stream",
     "text": [
      "[MoviePy] Done.\n",
      "[MoviePy] >>>> Video ready: High_Hints/3_precipitateQs_predict_question__synthetic_student_28_1089.mp4 \n",
      "\n",
      "[MoviePy] >>>> Building video High_Hints/3_precipitateQs_predict_question__synthetic_student_29_1132.mp4\n",
      "[MoviePy] Writing audio in 3_precipitateQs_predict_question__synthetic_student_29_1132TEMP_MPY_wvf_snd.mp3\n"
     ]
    },
    {
     "name": "stderr",
     "output_type": "stream",
     "text": [
      "100%|██████████| 3220/3220 [00:06<00:00, 479.75it/s]"
     ]
    },
    {
     "name": "stdout",
     "output_type": "stream",
     "text": [
      "[MoviePy] Done.\n",
      "[MoviePy] Writing video High_Hints/3_precipitateQs_predict_question__synthetic_student_29_1132.mp4\n"
     ]
    },
    {
     "name": "stderr",
     "output_type": "stream",
     "text": [
      "\n",
      "100%|█████████▉| 4380/4381 [00:30<00:00, 144.34it/s]\n"
     ]
    },
    {
     "name": "stdout",
     "output_type": "stream",
     "text": [
      "[MoviePy] Done.\n",
      "[MoviePy] >>>> Video ready: High_Hints/3_precipitateQs_predict_question__synthetic_student_29_1132.mp4 \n",
      "\n",
      "[MoviePy] >>>> Building video High_Hints/3_precipitateQs_predict_question__synthetic_student_30_1188.mp4\n",
      "[MoviePy] Writing audio in 3_precipitateQs_predict_question__synthetic_student_30_1188TEMP_MPY_wvf_snd.mp3\n"
     ]
    },
    {
     "name": "stderr",
     "output_type": "stream",
     "text": [
      "100%|██████████| 4344/4344 [00:09<00:00, 470.14it/s]"
     ]
    },
    {
     "name": "stdout",
     "output_type": "stream",
     "text": [
      "[MoviePy] Done.\n",
      "[MoviePy] Writing video High_Hints/3_precipitateQs_predict_question__synthetic_student_30_1188.mp4\n"
     ]
    },
    {
     "name": "stderr",
     "output_type": "stream",
     "text": [
      "\n",
      "100%|█████████▉| 5910/5911 [00:40<00:00, 144.81it/s]\n"
     ]
    },
    {
     "name": "stdout",
     "output_type": "stream",
     "text": [
      "[MoviePy] Done.\n",
      "[MoviePy] >>>> Video ready: High_Hints/3_precipitateQs_predict_question__synthetic_student_30_1188.mp4 \n",
      "\n",
      "[MoviePy] >>>> Building video High_Hints/3_precipitateQs_predict_question__synthetic_student_31_1247.mp4\n",
      "[MoviePy] Writing audio in 3_precipitateQs_predict_question__synthetic_student_31_1247TEMP_MPY_wvf_snd.mp3\n"
     ]
    },
    {
     "name": "stderr",
     "output_type": "stream",
     "text": [
      "100%|██████████| 4565/4565 [00:09<00:00, 471.48it/s]"
     ]
    },
    {
     "name": "stdout",
     "output_type": "stream",
     "text": [
      "[MoviePy] Done.\n",
      "[MoviePy] Writing video High_Hints/3_precipitateQs_predict_question__synthetic_student_31_1247.mp4\n"
     ]
    },
    {
     "name": "stderr",
     "output_type": "stream",
     "text": [
      "\n",
      "100%|█████████▉| 6210/6211 [00:44<00:00, 139.20it/s]\n"
     ]
    },
    {
     "name": "stdout",
     "output_type": "stream",
     "text": [
      "[MoviePy] Done.\n",
      "[MoviePy] >>>> Video ready: High_Hints/3_precipitateQs_predict_question__synthetic_student_31_1247.mp4 \n",
      "\n",
      "[MoviePy] >>>> Building video High_Hints/3_precipitateQs_predict_question__synthetic_student_32_1294.mp4\n",
      "[MoviePy] Writing audio in 3_precipitateQs_predict_question__synthetic_student_32_1294TEMP_MPY_wvf_snd.mp3\n"
     ]
    },
    {
     "name": "stderr",
     "output_type": "stream",
     "text": [
      "100%|██████████| 1853/1853 [00:03<00:00, 471.77it/s]"
     ]
    },
    {
     "name": "stdout",
     "output_type": "stream",
     "text": [
      "[MoviePy] Done.\n",
      "[MoviePy] Writing video High_Hints/3_precipitateQs_predict_question__synthetic_student_32_1294.mp4\n"
     ]
    },
    {
     "name": "stderr",
     "output_type": "stream",
     "text": [
      "\n",
      "100%|█████████▉| 2520/2521 [00:16<00:00, 152.30it/s]\n"
     ]
    },
    {
     "name": "stdout",
     "output_type": "stream",
     "text": [
      "[MoviePy] Done.\n",
      "[MoviePy] >>>> Video ready: High_Hints/3_precipitateQs_predict_question__synthetic_student_32_1294.mp4 \n",
      "\n",
      "[MoviePy] >>>> Building video High_Hints/3_precipitateQs_predict_question__synthetic_student_33_1343.mp4\n",
      "[MoviePy] Writing audio in 3_precipitateQs_predict_question__synthetic_student_33_1343TEMP_MPY_wvf_snd.mp3\n"
     ]
    },
    {
     "name": "stderr",
     "output_type": "stream",
     "text": [
      "100%|██████████| 2051/2051 [00:04<00:00, 442.68it/s]\n"
     ]
    },
    {
     "name": "stdout",
     "output_type": "stream",
     "text": [
      "[MoviePy] Done.\n",
      "[MoviePy] Writing video High_Hints/3_precipitateQs_predict_question__synthetic_student_33_1343.mp4\n"
     ]
    },
    {
     "name": "stderr",
     "output_type": "stream",
     "text": [
      "100%|█████████▉| 2790/2791 [00:20<00:00, 133.42it/s]\n"
     ]
    },
    {
     "name": "stdout",
     "output_type": "stream",
     "text": [
      "[MoviePy] Done.\n",
      "[MoviePy] >>>> Video ready: High_Hints/3_precipitateQs_predict_question__synthetic_student_33_1343.mp4 \n",
      "\n",
      "[MoviePy] >>>> Building video High_Hints/3_precipitateQs_predict_question__synthetic_student_36_1366.mp4\n",
      "[MoviePy] Writing audio in 3_precipitateQs_predict_question__synthetic_student_36_1366TEMP_MPY_wvf_snd.mp3\n"
     ]
    },
    {
     "name": "stderr",
     "output_type": "stream",
     "text": [
      "100%|██████████| 2492/2492 [00:05<00:00, 456.83it/s]"
     ]
    },
    {
     "name": "stdout",
     "output_type": "stream",
     "text": [
      "[MoviePy] Done.\n",
      "[MoviePy] Writing video High_Hints/3_precipitateQs_predict_question__synthetic_student_36_1366.mp4\n"
     ]
    },
    {
     "name": "stderr",
     "output_type": "stream",
     "text": [
      "\n",
      "100%|█████████▉| 3390/3391 [00:23<00:00, 143.74it/s]\n"
     ]
    },
    {
     "name": "stdout",
     "output_type": "stream",
     "text": [
      "[MoviePy] Done.\n",
      "[MoviePy] >>>> Video ready: High_Hints/3_precipitateQs_predict_question__synthetic_student_36_1366.mp4 \n",
      "\n",
      "[MoviePy] >>>> Building video High_Hints/3_precipitateQs_predict_question__synthetic_student_37_1409.mp4\n",
      "[MoviePy] Writing audio in 3_precipitateQs_predict_question__synthetic_student_37_1409TEMP_MPY_wvf_snd.mp3\n"
     ]
    },
    {
     "name": "stderr",
     "output_type": "stream",
     "text": [
      "100%|██████████| 5248/5248 [00:11<00:00, 461.35it/s]"
     ]
    },
    {
     "name": "stdout",
     "output_type": "stream",
     "text": [
      "[MoviePy] Done.\n",
      "[MoviePy] Writing video High_Hints/3_precipitateQs_predict_question__synthetic_student_37_1409.mp4\n"
     ]
    },
    {
     "name": "stderr",
     "output_type": "stream",
     "text": [
      "\n",
      "100%|█████████▉| 7140/7141 [00:53<00:00, 133.49it/s]\n"
     ]
    },
    {
     "name": "stdout",
     "output_type": "stream",
     "text": [
      "[MoviePy] Done.\n",
      "[MoviePy] >>>> Video ready: High_Hints/3_precipitateQs_predict_question__synthetic_student_37_1409.mp4 \n",
      "\n",
      "[MoviePy] >>>> Building video High_Hints/3_precipitateQs_predict_question__synthetic_student_34_1547.mp4\n",
      "[MoviePy] Writing audio in 3_precipitateQs_predict_question__synthetic_student_34_1547TEMP_MPY_wvf_snd.mp3\n"
     ]
    },
    {
     "name": "stderr",
     "output_type": "stream",
     "text": [
      "100%|██████████| 3198/3198 [00:08<00:00, 394.40it/s]"
     ]
    },
    {
     "name": "stdout",
     "output_type": "stream",
     "text": [
      "[MoviePy] Done.\n",
      "[MoviePy] Writing video High_Hints/3_precipitateQs_predict_question__synthetic_student_34_1547.mp4\n"
     ]
    },
    {
     "name": "stderr",
     "output_type": "stream",
     "text": [
      "\n",
      "100%|█████████▉| 4350/4351 [00:32<00:00, 135.40it/s]\n"
     ]
    },
    {
     "name": "stdout",
     "output_type": "stream",
     "text": [
      "[MoviePy] Done.\n",
      "[MoviePy] >>>> Video ready: High_Hints/3_precipitateQs_predict_question__synthetic_student_34_1547.mp4 \n",
      "\n",
      "[MoviePy] >>>> Building video High_Hints/3_precipitateQs_predict_question__synthetic_student_35_1894.mp4\n",
      "[MoviePy] Writing audio in 3_precipitateQs_predict_question__synthetic_student_35_1894TEMP_MPY_wvf_snd.mp3\n"
     ]
    },
    {
     "name": "stderr",
     "output_type": "stream",
     "text": [
      "100%|██████████| 1985/1985 [00:04<00:00, 452.46it/s]"
     ]
    },
    {
     "name": "stdout",
     "output_type": "stream",
     "text": [
      "[MoviePy] Done.\n",
      "[MoviePy] Writing video High_Hints/3_precipitateQs_predict_question__synthetic_student_35_1894.mp4\n"
     ]
    },
    {
     "name": "stderr",
     "output_type": "stream",
     "text": [
      "\n",
      "100%|█████████▉| 2700/2701 [00:19<00:00, 135.83it/s]\n"
     ]
    },
    {
     "name": "stdout",
     "output_type": "stream",
     "text": [
      "[MoviePy] Done.\n",
      "[MoviePy] >>>> Video ready: High_Hints/3_precipitateQs_predict_question__synthetic_student_35_1894.mp4 \n",
      "\n"
     ]
    }
   ],
   "source": [
    "for index, row in queried_rows.iterrows():\n",
    "    myclip = VideoFileClip(row['S1.Filename']).subclip( row['S1.VideoTimeStart_sec'], row['S1.VideoTimeEnd_sec'] )\n",
    "    filename = 'High_Hints/3_precipitateQs_predict_question__' + row.Student + '_%s.mp4' % index\n",
    "    myclip.write_videofile(filename)"
   ]
  }
 ],
 "metadata": {
  "kernelspec": {
   "display_name": "Python 3",
   "language": "python",
   "name": "python3"
  },
  "language_info": {
   "codemirror_mode": {
    "name": "ipython",
    "version": 3
   },
   "file_extension": ".py",
   "mimetype": "text/x-python",
   "name": "python",
   "nbconvert_exporter": "python",
   "pygments_lexer": "ipython3",
   "version": "3.5.2"
  }
 },
 "nbformat": 4,
 "nbformat_minor": 0
}
